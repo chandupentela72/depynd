{
 "cells": [
  {
   "cell_type": "code",
   "execution_count": 1,
   "metadata": {
    "collapsed": true
   },
   "outputs": [],
   "source": [
    "import numpy as np\n",
    "import pandas as pd\n",
    "import sklearn.datasets\n",
    "from scipy.special import digamma\n",
    "import networkx as nx\n",
    "import matplotlib.pyplot as plt\n",
    "% matplotlib inline\n",
    "import matplotlib\n",
    "matplotlib.rcParams['pdf.fonttype'] = 42\n",
    "import seaborn as sns\n",
    "sns.set_style('ticks')\n",
    "palette = sns.color_palette(\"RdBu_r\", n_colors=25)\n",
    "\n",
    "from depynd import markov_networks"
   ]
  },
  {
   "cell_type": "code",
   "execution_count": 2,
   "metadata": {
    "collapsed": true
   },
   "outputs": [],
   "source": [
    "iris = sklearn.datasets.load_iris()\n",
    "df = pd.DataFrame(iris.data, columns=list(iris.feature_names))\n",
    "df['target'] = iris.target\n",
    "X = df.values"
   ]
  },
  {
   "cell_type": "code",
   "execution_count": 3,
   "metadata": {},
   "outputs": [],
   "source": [
    "adj1 = markov_networks.gsmn(X, lamb=0.0)\n",
    "g1 = nx.from_dict_of_lists(dict(enumerate(adj1)))\n",
    "adj2 = markov_networks.gsmn(X, lamb=0.5)\n",
    "g2 = nx.from_dict_of_lists(dict(enumerate(adj2)))"
   ]
  },
  {
   "cell_type": "code",
   "execution_count": 4,
   "metadata": {},
   "outputs": [
    {
     "data": {
      "text/plain": [
       "<matplotlib.axes._subplots.AxesSubplot at 0x7f1d86f3c438>"
      ]
     },
     "execution_count": 4,
     "metadata": {},
     "output_type": "execute_result"
    },
    {
     "data": {
      "image/png": "[encoded data removed]",
      "text/plain": [
       "<matplotlib.figure.Figure at 0x7f1d89885a20>"
      ]
     },
     "metadata": {},
     "output_type": "display_data"
    }
   ],
   "source": [
    "f, axes = plt.subplots(1, 2, figsize=[8, 4])\n",
    "sns.heatmap(nx.to_numpy_matrix(g1), annot=True, ax=axes[0], center=0, cmap=palette, cbar=False)\n",
    "sns.heatmap(nx.to_numpy_matrix(g2), annot=True, ax=axes[1], center=0, cmap=palette, cbar=False)"
   ]
  },
  {
   "cell_type": "code",
   "execution_count": 5,
   "metadata": {
    "collapsed": true
   },
   "outputs": [],
   "source": [
    "boston = sklearn.datasets.load_boston()\n",
    "df = pd.DataFrame(boston.data, columns=list(boston.feature_names))\n",
    "df['target'] = boston.target\n",
    "X = df.values"
   ]
  },
  {
   "cell_type": "code",
   "execution_count": 6,
   "metadata": {},
   "outputs": [],
   "source": [
    "adj1 = markov_networks.gsmn(X, lamb=0.0)\n",
    "g1 = nx.from_dict_of_lists(dict(enumerate(adj1)))\n",
    "adj2 = markov_networks.gsmn(X, lamb=0.5)\n",
    "g2 = nx.from_dict_of_lists(dict(enumerate(adj2)))"
   ]
  },
  {
   "cell_type": "code",
   "execution_count": 7,
   "metadata": {},
   "outputs": [
    {
     "data": {
      "text/plain": [
       "<matplotlib.axes._subplots.AxesSubplot at 0x7f1dc85a5080>"
      ]
     },
     "execution_count": 7,
     "metadata": {},
     "output_type": "execute_result"
    },
    {
     "data": {
      "image/png": "[encoded data removed]",
      "text/plain": [
       "<matplotlib.figure.Figure at 0x7f1dc86b52b0>"
      ]
     },
     "metadata": {},
     "output_type": "display_data"
    }
   ],
   "source": [
    "f, axes = plt.subplots(1, 2, figsize=[8, 4])\n",
    "sns.heatmap(nx.to_numpy_matrix(g1), annot=True, ax=axes[0], center=0, cmap=palette, cbar=False)\n",
    "sns.heatmap(nx.to_numpy_matrix(g2), annot=True, ax=axes[1], center=0, cmap=palette, cbar=False)"
   ]
  },
  {
   "cell_type": "code",
   "execution_count": null,
   "metadata": {
    "collapsed": true
   },
   "outputs": [],
   "source": []
  }
 ],
 "metadata": {
  "kernelspec": {
   "display_name": "py36",
   "language": "python",
   "name": "py36"
  },
  "language_info": {
   "codemirror_mode": {
    "name": "ipython",
    "version": 3
   },
   "file_extension": ".py",
   "mimetype": "text/x-python",
   "name": "python",
   "nbconvert_exporter": "python",
   "pygments_lexer": "ipython3",
   "version": "3.6.3"
  }
 },
 "nbformat": 4,
 "nbformat_minor": 2
}
