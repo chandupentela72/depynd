{
 "cells": [
  {
   "cell_type": "code",
   "execution_count": 1,
   "metadata": {},
   "outputs": [],
   "source": [
    "import numpy as np\n",
    "import pandas as pd\n",
    "from sklearn.datasets import load_iris, load_boston\n",
    "import seaborn as sns\n",
    "import matplotlib.pyplot as plt\n",
    "\n",
    "from depynd import markov_networks\n",
    "\n",
    "% matplotlib inline\n",
    "sns.set_style('ticks')\n",
    "palette = sns.color_palette(\"RdBu_r\", n_colors=25)"
   ]
  },
  {
   "cell_type": "code",
   "execution_count": 2,
   "metadata": {},
   "outputs": [],
   "source": [
    "iris = load_iris()\n",
    "df = pd.DataFrame(iris.data, columns=list(iris.feature_names))\n",
    "df['target'] = iris.target\n",
    "X = df.values"
   ]
  },
  {
   "cell_type": "code",
   "execution_count": 3,
   "metadata": {},
   "outputs": [
    {
     "name": "stdout",
     "output_type": "stream",
     "text": [
      "[stars] lambda: 1.000000, instability: 0.000000\n",
      "[stars] lambda: 0.900000, instability: 0.035200\n",
      "[stars] lambda: 0.800000, instability: 0.076800\n",
      "[stars] lambda: 0.700000, instability: 0.000000\n",
      "[stars] lambda: 0.600000, instability: 0.003300\n",
      "[stars] lambda: 0.500000, instability: 0.049200\n",
      "[stars] lambda: 0.400000, instability: 0.093533\n",
      "[stars] lambda: 0.300000, instability: 0.074100\n",
      "[stars] lambda: 0.200000, instability: 0.077700\n"
     ]
    }
   ],
   "source": [
    "adj1 = markov_networks.select(X[:, :4], method='glasso', rep_num=100, verbose=True)"
   ]
  },
  {
   "cell_type": "code",
   "execution_count": 4,
   "metadata": {},
   "outputs": [
    {
     "name": "stdout",
     "output_type": "stream",
     "text": [
      "[stars] lambda: 1.000000, instability: 0.000000\n",
      "[stars] lambda: 0.900000, instability: 0.073300\n",
      "[stars] lambda: 0.800000, instability: 0.037700\n",
      "[stars] lambda: 0.700000, instability: 0.000000\n",
      "[stars] lambda: 0.600000, instability: 0.000000\n",
      "[stars] lambda: 0.500000, instability: 0.000000\n",
      "[stars] lambda: 0.400000, instability: 0.073733\n"
     ]
    }
   ],
   "source": [
    "adj2 = markov_networks.select(X[:, :4], method='skeptic', rep_num=100, verbose=True)"
   ]
  },
  {
   "cell_type": "code",
   "execution_count": 5,
   "metadata": {},
   "outputs": [],
   "source": [
    "adj3 = markov_networks.select(X[:, :4], method='iamb', rep_num=100, verbose=True)"
   ]
  },
  {
   "cell_type": "code",
   "execution_count": 6,
   "metadata": {},
   "outputs": [
    {
     "data": {
      "text/plain": [
       "<matplotlib.axes._subplots.AxesSubplot at 0x7f1e0f8ed2b0>"
      ]
     },
     "execution_count": 6,
     "metadata": {},
     "output_type": "execute_result"
    },
    {
     "data": {
      "image/png": "[encoded data removed]",
      "text/plain": [
       "<Figure size 864x288 with 3 Axes>"
      ]
     },
     "metadata": {},
     "output_type": "display_data"
    }
   ],
   "source": [
    "f, axes = plt.subplots(1, 3, figsize=[12, 4])\n",
    "sns.heatmap(adj1, annot=True, ax=axes[0], center=0, cmap=palette, cbar=False)\n",
    "sns.heatmap(adj2, annot=True, ax=axes[1], center=0, cmap=palette, cbar=False)\n",
    "sns.heatmap(adj3, annot=True, ax=axes[2], center=0, cmap=palette, cbar=False)"
   ]
  },
  {
   "cell_type": "code",
   "execution_count": 7,
   "metadata": {},
   "outputs": [],
   "source": [
    "boston = load_boston()\n",
    "df = pd.DataFrame(boston.data, columns=list(boston.feature_names))\n",
    "df['target'] = boston.target\n",
    "X = df.values"
   ]
  },
  {
   "cell_type": "code",
   "execution_count": 8,
   "metadata": {},
   "outputs": [
    {
     "name": "stdout",
     "output_type": "stream",
     "text": [
      "[stars] lambda: 1.000000, instability: 0.000000\n",
      "[stars] lambda: 0.900000, instability: 0.004431\n",
      "[stars] lambda: 0.800000, instability: 0.005389\n",
      "[stars] lambda: 0.700000, instability: 0.033582\n",
      "[stars] lambda: 0.600000, instability: 0.058040\n",
      "[stars] lambda: 0.500000, instability: 0.069593\n",
      "[stars] lambda: 0.400000, instability: 0.098073\n"
     ]
    }
   ],
   "source": [
    "adj1 = markov_networks.select(X, method='glasso', rep_num=100, verbose=True)"
   ]
  },
  {
   "cell_type": "code",
   "execution_count": 9,
   "metadata": {},
   "outputs": [
    {
     "name": "stdout",
     "output_type": "stream",
     "text": [
      "[stars] lambda: 1.000000, instability: 0.000000\n",
      "[stars] lambda: 0.900000, instability: 0.002703\n",
      "[stars] lambda: 0.800000, instability: 0.019811\n",
      "[stars] lambda: 0.700000, instability: 0.049712\n",
      "[stars] lambda: 0.600000, instability: 0.055000\n",
      "[stars] lambda: 0.500000, instability: 0.081879\n"
     ]
    }
   ],
   "source": [
    "adj2 = markov_networks.select(X, method='skeptic', rep_num=100, verbose=True)"
   ]
  },
  {
   "cell_type": "code",
   "execution_count": 10,
   "metadata": {},
   "outputs": [
    {
     "name": "stdout",
     "output_type": "stream",
     "text": [
      "[stars] lambda: 1.000000, instability: 0.025495\n",
      "[stars] lambda: 0.900000, instability: 0.025495\n",
      "[stars] lambda: 0.800000, instability: 0.016484\n",
      "[stars] lambda: 0.700000, instability: 0.020000\n",
      "[stars] lambda: 0.600000, instability: 0.026593\n",
      "[stars] lambda: 0.500000, instability: 0.017802\n",
      "[stars] lambda: 0.400000, instability: 0.030549\n",
      "[stars] lambda: 0.300000, instability: 0.038462\n",
      "[stars] lambda: 0.200000, instability: 0.037802\n",
      "[stars] lambda: 0.100000, instability: 0.093846\n"
     ]
    }
   ],
   "source": [
    "adj3 = markov_networks.select(X, method='iamb', rep_num=10, verbose=True)"
   ]
  },
  {
   "cell_type": "code",
   "execution_count": 11,
   "metadata": {},
   "outputs": [
    {
     "data": {
      "text/plain": [
       "<matplotlib.axes._subplots.AxesSubplot at 0x7f1e0f75c7f0>"
      ]
     },
     "execution_count": 11,
     "metadata": {},
     "output_type": "execute_result"
    },
    {
     "data": {
      "image/png": "[encoded data removed]",
      "text/plain": [
       "<Figure size 1080x360 with 3 Axes>"
      ]
     },
     "metadata": {},
     "output_type": "display_data"
    }
   ],
   "source": [
    "f, axes = plt.subplots(1, 3, figsize=[15, 5])\n",
    "sns.heatmap(adj1, annot=True, ax=axes[0], center=0, cmap=palette, cbar=False, fmt='.1f')\n",
    "sns.heatmap(adj2, annot=True, ax=axes[1], center=0, cmap=palette, cbar=False, fmt='.1f')\n",
    "sns.heatmap(adj3, annot=True, ax=axes[2], center=0, cmap=palette, cbar=False, fmt='.1f')"
   ]
  },
  {
   "cell_type": "code",
   "execution_count": null,
   "metadata": {},
   "outputs": [],
   "source": []
  }
 ],
 "metadata": {
  "kernelspec": {
   "display_name": "py36",
   "language": "python",
   "name": "py36"
  },
  "language_info": {
   "codemirror_mode": {
    "name": "ipython",
    "version": 3
   },
   "file_extension": ".py",
   "mimetype": "text/x-python",
   "name": "python",
   "nbconvert_exporter": "python",
   "pygments_lexer": "ipython3",
   "version": "3.6.5"
  }
 },
 "nbformat": 4,
 "nbformat_minor": 2
}
