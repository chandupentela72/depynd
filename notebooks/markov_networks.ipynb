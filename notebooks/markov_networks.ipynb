{
 "cells": [
  {
   "cell_type": "code",
   "execution_count": 1,
   "metadata": {},
   "outputs": [],
   "source": [
    "import numpy as np\n",
    "import pandas as pd\n",
    "from sklearn.datasets import load_iris, load_boston\n",
    "import seaborn as sns\n",
    "import matplotlib.pyplot as plt\n",
    "\n",
    "from depynd import markov_networks\n",
    "\n",
    "% matplotlib inline\n",
    "sns.set_style('ticks')\n",
    "palette = sns.color_palette(\"RdBu_r\", n_colors=25)"
   ]
  },
  {
   "cell_type": "code",
   "execution_count": 2,
   "metadata": {},
   "outputs": [],
   "source": [
    "iris = load_iris()\n",
    "df = pd.DataFrame(iris.data, columns=list(iris.feature_names))\n",
    "df['target'] = iris.target\n",
    "X = df.values"
   ]
  },
  {
   "cell_type": "code",
   "execution_count": 3,
   "metadata": {},
   "outputs": [
    {
     "name": "stdout",
     "output_type": "stream",
     "text": [
      "[stars] lambda: 100.000000, instability: 0.000000\n",
      "[stars] lambda: 10.000000, instability: 0.000000\n",
      "[stars] lambda: 5.000000, instability: 0.000000\n",
      "[stars] lambda: 4.000000, instability: 0.000000\n",
      "[stars] lambda: 3.000000, instability: 0.000000\n",
      "[stars] lambda: 2.000000, instability: 0.000000\n",
      "[stars] lambda: 1.000000, instability: 0.000000\n",
      "[stars] lambda: 0.900000, instability: 0.044800\n",
      "[stars] lambda: 0.800000, instability: 0.070000\n",
      "[stars] lambda: 0.700000, instability: 0.000000\n",
      "[stars] lambda: 0.600000, instability: 0.000000\n",
      "[stars] lambda: 0.500000, instability: 0.030000\n",
      "[stars] lambda: 0.400000, instability: 0.088367\n",
      "[stars] lambda: 0.300000, instability: 0.051333\n",
      "[stars] lambda: 0.200000, instability: 0.074800\n",
      "[stars] lambda: 0.100000, instability: 0.099833\n",
      "[stars] lambda: 0.080000, instability: 0.063033\n",
      "[stars] lambda: 0.050000, instability: 0.054600\n"
     ]
    }
   ],
   "source": [
    "adj1 = markov_networks.select(X[:, :4], method='glasso', rep_num=100, verbose=True)"
   ]
  },
  {
   "cell_type": "code",
   "execution_count": 4,
   "metadata": {},
   "outputs": [
    {
     "name": "stdout",
     "output_type": "stream",
     "text": [
      "[stars] lambda: 100.000000, instability: 0.000000\n",
      "[stars] lambda: 10.000000, instability: 0.000000\n",
      "[stars] lambda: 5.000000, instability: 0.000000\n",
      "[stars] lambda: 4.000000, instability: 0.000000\n",
      "[stars] lambda: 3.000000, instability: 0.000000\n",
      "[stars] lambda: 2.000000, instability: 0.000000\n",
      "[stars] lambda: 1.000000, instability: 0.000000\n",
      "[stars] lambda: 0.900000, instability: 0.040133\n",
      "[stars] lambda: 0.800000, instability: 0.044800\n",
      "[stars] lambda: 0.700000, instability: 0.000000\n",
      "[stars] lambda: 0.600000, instability: 0.000000\n",
      "[stars] lambda: 0.500000, instability: 0.000000\n",
      "[stars] lambda: 0.400000, instability: 0.075033\n"
     ]
    }
   ],
   "source": [
    "adj2 = markov_networks.select(X[:, :4], method='skeptic', rep_num=100, verbose=True)"
   ]
  },
  {
   "cell_type": "code",
   "execution_count": 5,
   "metadata": {},
   "outputs": [
    {
     "name": "stdout",
     "output_type": "stream",
     "text": [
      "[stars] lambda: 100.000000, instability: 0.000000\n",
      "[stars] lambda: 10.000000, instability: 0.000000\n",
      "[stars] lambda: 5.000000, instability: 0.000000\n",
      "[stars] lambda: 4.000000, instability: 0.000000\n",
      "[stars] lambda: 3.000000, instability: 0.000000\n",
      "[stars] lambda: 2.000000, instability: 0.000000\n"
     ]
    }
   ],
   "source": [
    "adj3 = markov_networks.select(X[:, :4], method='iamb', rep_num=100, verbose=True)"
   ]
  },
  {
   "cell_type": "code",
   "execution_count": 6,
   "metadata": {},
   "outputs": [
    {
     "data": {
      "text/plain": [
       "<matplotlib.axes._subplots.AxesSubplot at 0x7fedaa9f4828>"
      ]
     },
     "execution_count": 6,
     "metadata": {},
     "output_type": "execute_result"
    },
    {
     "data": {
      "image/png": "[encoded data removed]",
      "text/plain": [
       "<Figure size 864x288 with 3 Axes>"
      ]
     },
     "metadata": {},
     "output_type": "display_data"
    }
   ],
   "source": [
    "f, axes = plt.subplots(1, 3, figsize=[12, 4])\n",
    "sns.heatmap(adj1, annot=True, ax=axes[0], center=0, cmap=palette, cbar=False)\n",
    "sns.heatmap(adj2, annot=True, ax=axes[1], center=0, cmap=palette, cbar=False)\n",
    "sns.heatmap(adj3, annot=True, ax=axes[2], center=0, cmap=palette, cbar=False)"
   ]
  },
  {
   "cell_type": "code",
   "execution_count": 7,
   "metadata": {},
   "outputs": [],
   "source": [
    "boston = load_boston()\n",
    "df = pd.DataFrame(boston.data, columns=list(boston.feature_names))\n",
    "df['target'] = boston.target\n",
    "X = df.values"
   ]
  },
  {
   "cell_type": "code",
   "execution_count": 8,
   "metadata": {},
   "outputs": [
    {
     "name": "stdout",
     "output_type": "stream",
     "text": [
      "[stars] lambda: 100.000000, instability: 0.000000\n",
      "[stars] lambda: 10.000000, instability: 0.000000\n",
      "[stars] lambda: 5.000000, instability: 0.000000\n",
      "[stars] lambda: 4.000000, instability: 0.000000\n",
      "[stars] lambda: 3.000000, instability: 0.000000\n",
      "[stars] lambda: 2.000000, instability: 0.000000\n",
      "[stars] lambda: 1.000000, instability: 0.000000\n",
      "[stars] lambda: 0.900000, instability: 0.003892\n",
      "[stars] lambda: 0.800000, instability: 0.007141\n",
      "[stars] lambda: 0.700000, instability: 0.035114\n",
      "[stars] lambda: 0.600000, instability: 0.057097\n",
      "[stars] lambda: 0.500000, instability: 0.071620\n"
     ]
    }
   ],
   "source": [
    "adj1 = markov_networks.select(X, method='glasso', rep_num=100, verbose=True)"
   ]
  },
  {
   "cell_type": "code",
   "execution_count": 9,
   "metadata": {},
   "outputs": [
    {
     "name": "stdout",
     "output_type": "stream",
     "text": [
      "[stars] lambda: 100.000000, instability: 0.000000\n",
      "[stars] lambda: 10.000000, instability: 0.000000\n",
      "[stars] lambda: 5.000000, instability: 0.000000\n",
      "[stars] lambda: 4.000000, instability: 0.000000\n",
      "[stars] lambda: 3.000000, instability: 0.000000\n",
      "[stars] lambda: 2.000000, instability: 0.000000\n",
      "[stars] lambda: 1.000000, instability: 0.000000\n",
      "[stars] lambda: 0.900000, instability: 0.003171\n",
      "[stars] lambda: 0.800000, instability: 0.021440\n",
      "[stars] lambda: 0.700000, instability: 0.050029\n",
      "[stars] lambda: 0.600000, instability: 0.062791\n",
      "[stars] lambda: 0.500000, instability: 0.081675\n"
     ]
    }
   ],
   "source": [
    "adj2 = markov_networks.select(X, method='skeptic', rep_num=100, verbose=True)"
   ]
  },
  {
   "cell_type": "code",
   "execution_count": 10,
   "metadata": {},
   "outputs": [
    {
     "name": "stdout",
     "output_type": "stream",
     "text": [
      "[stars] lambda: 100.000000, instability: 0.000000\n",
      "[stars] lambda: 10.000000, instability: 0.000000\n",
      "[stars] lambda: 5.000000, instability: 0.000000\n",
      "[stars] lambda: 4.000000, instability: 0.000000\n",
      "[stars] lambda: 3.000000, instability: 0.000000\n",
      "[stars] lambda: 2.000000, instability: 0.011209\n",
      "[stars] lambda: 1.000000, instability: 0.013407\n",
      "[stars] lambda: 0.900000, instability: 0.017143\n",
      "[stars] lambda: 0.800000, instability: 0.016484\n",
      "[stars] lambda: 0.700000, instability: 0.030989\n",
      "[stars] lambda: 0.600000, instability: 0.034066\n",
      "[stars] lambda: 0.500000, instability: 0.033846\n",
      "[stars] lambda: 0.400000, instability: 0.033187\n",
      "[stars] lambda: 0.300000, instability: 0.024615\n",
      "[stars] lambda: 0.200000, instability: 0.043516\n",
      "[stars] lambda: 0.100000, instability: 0.092088\n"
     ]
    }
   ],
   "source": [
    "adj3 = markov_networks.select(X, method='iamb', rep_num=10, verbose=True)"
   ]
  },
  {
   "cell_type": "code",
   "execution_count": 11,
   "metadata": {},
   "outputs": [
    {
     "data": {
      "text/plain": [
       "<matplotlib.axes._subplots.AxesSubplot at 0x7fedaa864ef0>"
      ]
     },
     "execution_count": 11,
     "metadata": {},
     "output_type": "execute_result"
    },
    {
     "data": {
      "image/png": "[encoded data removed]",
      "text/plain": [
       "<Figure size 1080x360 with 3 Axes>"
      ]
     },
     "metadata": {},
     "output_type": "display_data"
    }
   ],
   "source": [
    "f, axes = plt.subplots(1, 3, figsize=[15, 5])\n",
    "sns.heatmap(adj1, annot=True, ax=axes[0], center=0, cmap=palette, cbar=False, fmt='.1f')\n",
    "sns.heatmap(adj2, annot=True, ax=axes[1], center=0, cmap=palette, cbar=False, fmt='.1f')\n",
    "sns.heatmap(adj3, annot=True, ax=axes[2], center=0, cmap=palette, cbar=False, fmt='.1f')"
   ]
  },
  {
   "cell_type": "code",
   "execution_count": null,
   "metadata": {},
   "outputs": [],
   "source": []
  }
 ],
 "metadata": {
  "kernelspec": {
   "display_name": "py36",
   "language": "python",
   "name": "py36"
  },
  "language_info": {
   "codemirror_mode": {
    "name": "ipython",
    "version": 3
   },
   "file_extension": ".py",
   "mimetype": "text/x-python",
   "name": "python",
   "nbconvert_exporter": "python",
   "pygments_lexer": "ipython3",
   "version": "3.6.5"
  }
 },
 "nbformat": 4,
 "nbformat_minor": 2
}
